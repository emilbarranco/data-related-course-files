{
 "cells": [
  {
   "cell_type": "code",
   "execution_count": 2,
   "id": "5fd2ef2a",
   "metadata": {},
   "outputs": [
    {
     "data": {
      "text/plain": [
       "5"
      ]
     },
     "execution_count": 2,
     "metadata": {},
     "output_type": "execute_result"
    }
   ],
   "source": [
    "# Defining a Variable\n",
    "x = 5\n",
    "x"
   ]
  },
  {
   "cell_type": "code",
   "execution_count": 3,
   "id": "a063e336",
   "metadata": {},
   "outputs": [],
   "source": [
    "x, y = (1, 2)"
   ]
  },
  {
   "cell_type": "code",
   "execution_count": 4,
   "id": "efcf2184",
   "metadata": {},
   "outputs": [
    {
     "data": {
      "text/plain": [
       "1"
      ]
     },
     "execution_count": 4,
     "metadata": {},
     "output_type": "execute_result"
    }
   ],
   "source": [
    "x"
   ]
  },
  {
   "cell_type": "code",
   "execution_count": 5,
   "id": "dfae0b52",
   "metadata": {},
   "outputs": [
    {
     "data": {
      "text/plain": [
       "2"
      ]
     },
     "execution_count": 5,
     "metadata": {},
     "output_type": "execute_result"
    }
   ],
   "source": [
    "y"
   ]
  },
  {
   "cell_type": "code",
   "execution_count": 6,
   "id": "82a95d17",
   "metadata": {},
   "outputs": [
    {
     "data": {
      "text/plain": [
       "int"
      ]
     },
     "execution_count": 6,
     "metadata": {},
     "output_type": "execute_result"
    }
   ],
   "source": [
    "# Integers & Floats\n",
    "x1 = 5\n",
    "type(x1)"
   ]
  },
  {
   "cell_type": "code",
   "execution_count": 7,
   "id": "1274a941",
   "metadata": {},
   "outputs": [
    {
     "data": {
      "text/plain": [
       "int"
      ]
     },
     "execution_count": 7,
     "metadata": {},
     "output_type": "execute_result"
    }
   ],
   "source": [
    "type(-6)"
   ]
  },
  {
   "cell_type": "code",
   "execution_count": 8,
   "id": "66694520",
   "metadata": {},
   "outputs": [
    {
     "data": {
      "text/plain": [
       "float"
      ]
     },
     "execution_count": 8,
     "metadata": {},
     "output_type": "execute_result"
    }
   ],
   "source": [
    "x2 = 5.75\n",
    "type(x2)"
   ]
  },
  {
   "cell_type": "code",
   "execution_count": 9,
   "id": "62d3a9c9",
   "metadata": {},
   "outputs": [
    {
     "data": {
      "text/plain": [
       "5"
      ]
     },
     "execution_count": 9,
     "metadata": {},
     "output_type": "execute_result"
    }
   ],
   "source": [
    "int(x2)"
   ]
  },
  {
   "cell_type": "code",
   "execution_count": 10,
   "id": "deec480c",
   "metadata": {},
   "outputs": [
    {
     "ename": "NameError",
     "evalue": "name 'true' is not defined",
     "output_type": "error",
     "traceback": [
      "\u001b[1;31m---------------------------------------------------------------------------\u001b[0m",
      "\u001b[1;31mNameError\u001b[0m                                 Traceback (most recent call last)",
      "Cell \u001b[1;32mIn[10], line 2\u001b[0m\n\u001b[0;32m      1\u001b[0m \u001b[38;5;66;03m# Booleans\u001b[39;00m\n\u001b[1;32m----> 2\u001b[0m x3 \u001b[38;5;241m=\u001b[39m \u001b[43mtrue\u001b[49m\n\u001b[0;32m      3\u001b[0m \u001b[38;5;28mtype\u001b[39m(x3)\n",
      "\u001b[1;31mNameError\u001b[0m: name 'true' is not defined"
     ]
    }
   ],
   "source": [
    "# Booleans\n",
    "x3 = true\n",
    "type(x3)"
   ]
  },
  {
   "cell_type": "code",
   "execution_count": 11,
   "id": "56116795",
   "metadata": {},
   "outputs": [
    {
     "data": {
      "text/plain": [
       "bool"
      ]
     },
     "execution_count": 11,
     "metadata": {},
     "output_type": "execute_result"
    }
   ],
   "source": [
    "x3 = True\n",
    "type(x3)"
   ]
  },
  {
   "cell_type": "code",
   "execution_count": 12,
   "id": "3c33d47d",
   "metadata": {},
   "outputs": [
    {
     "ename": "NameError",
     "evalue": "name 'George' is not defined",
     "output_type": "error",
     "traceback": [
      "\u001b[1;31m---------------------------------------------------------------------------\u001b[0m",
      "\u001b[1;31mNameError\u001b[0m                                 Traceback (most recent call last)",
      "Cell \u001b[1;32mIn[12], line 2\u001b[0m\n\u001b[0;32m      1\u001b[0m \u001b[38;5;66;03m# Strings\u001b[39;00m\n\u001b[1;32m----> 2\u001b[0m \u001b[43mGeorge\u001b[49m\n",
      "\u001b[1;31mNameError\u001b[0m: name 'George' is not defined"
     ]
    }
   ],
   "source": [
    "# Strings\n",
    "George"
   ]
  },
  {
   "cell_type": "code",
   "execution_count": 13,
   "id": "94471488",
   "metadata": {},
   "outputs": [
    {
     "data": {
      "text/plain": [
       "'George'"
      ]
     },
     "execution_count": 13,
     "metadata": {},
     "output_type": "execute_result"
    }
   ],
   "source": [
    "'George'"
   ]
  },
  {
   "cell_type": "code",
   "execution_count": 14,
   "id": "09317d6e",
   "metadata": {},
   "outputs": [
    {
     "name": "stdout",
     "output_type": "stream",
     "text": [
      "George\n"
     ]
    }
   ],
   "source": [
    "print('George')"
   ]
  },
  {
   "cell_type": "code",
   "execution_count": 15,
   "id": "1a56fa31",
   "metadata": {},
   "outputs": [
    {
     "data": {
      "text/plain": [
       "'George'"
      ]
     },
     "execution_count": 15,
     "metadata": {},
     "output_type": "execute_result"
    }
   ],
   "source": [
    "x4 = 'George'\n",
    "x4"
   ]
  },
  {
   "cell_type": "code",
   "execution_count": 16,
   "id": "94dd71cb",
   "metadata": {},
   "outputs": [
    {
     "ename": "TypeError",
     "evalue": "unsupported operand type(s) for +: 'int' and 'str'",
     "output_type": "error",
     "traceback": [
      "\u001b[1;31m---------------------------------------------------------------------------\u001b[0m",
      "\u001b[1;31mTypeError\u001b[0m                                 Traceback (most recent call last)",
      "Cell \u001b[1;32mIn[16], line 2\u001b[0m\n\u001b[0;32m      1\u001b[0m y \u001b[38;5;241m=\u001b[39m \u001b[38;5;241m10\u001b[39m\n\u001b[1;32m----> 2\u001b[0m \u001b[38;5;28mprint\u001b[39m(\u001b[43my\u001b[49m\u001b[43m \u001b[49m\u001b[38;5;241;43m+\u001b[39;49m\u001b[43m \u001b[49m\u001b[38;5;124;43m'\u001b[39;49m\u001b[38;5;124;43mDollars\u001b[39;49m\u001b[38;5;124;43m'\u001b[39;49m)\n",
      "\u001b[1;31mTypeError\u001b[0m: unsupported operand type(s) for +: 'int' and 'str'"
     ]
    }
   ],
   "source": [
    "y = 10\n",
    "print(y + 'Dollars')"
   ]
  },
  {
   "cell_type": "code",
   "execution_count": 18,
   "id": "d9ab7234",
   "metadata": {},
   "outputs": [
    {
     "name": "stdout",
     "output_type": "stream",
     "text": [
      "10 Dollars\n"
     ]
    }
   ],
   "source": [
    "print(str(y) + ' Dollars')"
   ]
  },
  {
   "cell_type": "code",
   "execution_count": 19,
   "id": "1412b546",
   "metadata": {},
   "outputs": [
    {
     "data": {
      "text/plain": [
       "\"I'm fine\""
      ]
     },
     "execution_count": 19,
     "metadata": {},
     "output_type": "execute_result"
    }
   ],
   "source": [
    "\"I'm fine\""
   ]
  },
  {
   "cell_type": "code",
   "execution_count": 21,
   "id": "b65af816",
   "metadata": {},
   "outputs": [
    {
     "data": {
      "text/plain": [
       "\"I'm fine\""
      ]
     },
     "execution_count": 21,
     "metadata": {},
     "output_type": "execute_result"
    }
   ],
   "source": [
    "'I\\'m fine'"
   ]
  },
  {
   "cell_type": "code",
   "execution_count": 22,
   "id": "53f336c8",
   "metadata": {},
   "outputs": [
    {
     "data": {
      "text/plain": [
       "'Press \"Enter\"'"
      ]
     },
     "execution_count": 22,
     "metadata": {},
     "output_type": "execute_result"
    }
   ],
   "source": [
    "'Press \"Enter\"'"
   ]
  },
  {
   "cell_type": "code",
   "execution_count": 23,
   "id": "39bc9b91",
   "metadata": {},
   "outputs": [
    {
     "data": {
      "text/plain": [
       "'RedCar'"
      ]
     },
     "execution_count": 23,
     "metadata": {},
     "output_type": "execute_result"
    }
   ],
   "source": [
    "'Red' 'Car'"
   ]
  },
  {
   "cell_type": "code",
   "execution_count": 24,
   "id": "c03c7239",
   "metadata": {},
   "outputs": [
    {
     "data": {
      "text/plain": [
       "'Red Car'"
      ]
     },
     "execution_count": 24,
     "metadata": {},
     "output_type": "execute_result"
    }
   ],
   "source": [
    "'Red ' 'Car'"
   ]
  },
  {
   "cell_type": "code",
   "execution_count": 25,
   "id": "deae17b2",
   "metadata": {},
   "outputs": [
    {
     "name": "stdout",
     "output_type": "stream",
     "text": [
      "Red Car 3 5\n"
     ]
    }
   ],
   "source": [
    "print('Red', 'Car', 3, 5)"
   ]
  },
  {
   "cell_type": "code",
   "execution_count": 26,
   "id": "e3b313e4",
   "metadata": {},
   "outputs": [
    {
     "data": {
      "text/plain": [
       "(3, 6, 9, 4.75, 'Park')"
      ]
     },
     "execution_count": 26,
     "metadata": {},
     "output_type": "execute_result"
    }
   ],
   "source": [
    "3, 6, 9, 4.75, 'Park'"
   ]
  },
  {
   "cell_type": "code",
   "execution_count": 27,
   "id": "7f55b91c",
   "metadata": {},
   "outputs": [],
   "source": [
    "# Arithmetic Operators, Double Equality, Reassign Values, etc (Skipped to Functions)"
   ]
  },
  {
   "cell_type": "code",
   "execution_count": 28,
   "id": "afaa5b1a",
   "metadata": {},
   "outputs": [
    {
     "name": "stdout",
     "output_type": "stream",
     "text": [
      "My first function\n"
     ]
    }
   ],
   "source": [
    "def simple():\n",
    "    print('My first function')\n",
    "    \n",
    "simple()"
   ]
  },
  {
   "cell_type": "code",
   "execution_count": 29,
   "id": "cad33644",
   "metadata": {},
   "outputs": [
    {
     "data": {
      "text/plain": [
       "20"
      ]
     },
     "execution_count": 29,
     "metadata": {},
     "output_type": "execute_result"
    }
   ],
   "source": [
    "def plus_ten(e):\n",
    "    return e + 10\n",
    "\n",
    "plus_ten(10)"
   ]
  },
  {
   "cell_type": "code",
   "execution_count": 31,
   "id": "7a8391e7",
   "metadata": {},
   "outputs": [
    {
     "data": {
      "text/plain": [
       "12"
      ]
     },
     "execution_count": 31,
     "metadata": {},
     "output_type": "execute_result"
    }
   ],
   "source": [
    "def plus__ten(e):\n",
    "    result = e + 10\n",
    "    return result\n",
    "\n",
    "plus__ten(2)"
   ]
  },
  {
   "cell_type": "code",
   "execution_count": 32,
   "id": "e66ead17",
   "metadata": {},
   "outputs": [
    {
     "data": {
      "text/plain": [
       "['John', 'Leila', 'George', 'Cate']"
      ]
     },
     "execution_count": 32,
     "metadata": {},
     "output_type": "execute_result"
    }
   ],
   "source": [
    "# Lists\n",
    "\n",
    "Participants = ['John', 'Leila', 'George', 'Cate']\n",
    "Participants"
   ]
  },
  {
   "cell_type": "code",
   "execution_count": 34,
   "id": "33b4640c",
   "metadata": {},
   "outputs": [
    {
     "data": {
      "text/plain": [
       "'Leila'"
      ]
     },
     "execution_count": 34,
     "metadata": {},
     "output_type": "execute_result"
    }
   ],
   "source": [
    "Participants[1]"
   ]
  },
  {
   "cell_type": "code",
   "execution_count": 35,
   "id": "69434e59",
   "metadata": {},
   "outputs": [
    {
     "data": {
      "text/plain": [
       "'George'"
      ]
     },
     "execution_count": 35,
     "metadata": {},
     "output_type": "execute_result"
    }
   ],
   "source": [
    "Participants[-2]"
   ]
  },
  {
   "cell_type": "code",
   "execution_count": 37,
   "id": "5ac02580",
   "metadata": {},
   "outputs": [
    {
     "data": {
      "text/plain": [
       "['John', 'Leila', 'George', 'Maria']"
      ]
     },
     "execution_count": 37,
     "metadata": {},
     "output_type": "execute_result"
    }
   ],
   "source": [
    "Participants[3] = 'Maria'\n",
    "Participants"
   ]
  },
  {
   "cell_type": "code",
   "execution_count": 39,
   "id": "ff3d353a",
   "metadata": {},
   "outputs": [
    {
     "data": {
      "text/plain": [
       "['John', 'Leila']"
      ]
     },
     "execution_count": 39,
     "metadata": {},
     "output_type": "execute_result"
    }
   ],
   "source": [
    "del Participants[2]\n",
    "Participants"
   ]
  },
  {
   "cell_type": "code",
   "execution_count": 40,
   "id": "236c06d4",
   "metadata": {},
   "outputs": [
    {
     "data": {
      "text/plain": [
       "['John', 'Leila']"
      ]
     },
     "execution_count": 40,
     "metadata": {},
     "output_type": "execute_result"
    }
   ],
   "source": [
    "Participants"
   ]
  },
  {
   "cell_type": "code",
   "execution_count": 42,
   "id": "326bea47",
   "metadata": {},
   "outputs": [
    {
     "data": {
      "text/plain": [
       "['John', 'Leila', 'George', 'Mickey']"
      ]
     },
     "execution_count": 42,
     "metadata": {},
     "output_type": "execute_result"
    }
   ],
   "source": [
    "Participants = ['John', 'Leila', 'George', 'Cate']\n",
    "Participants[3] = 'Mickey'\n",
    "Participants"
   ]
  },
  {
   "cell_type": "code",
   "execution_count": 43,
   "id": "31b9d0b3",
   "metadata": {},
   "outputs": [],
   "source": [
    "del Participants[1]"
   ]
  },
  {
   "cell_type": "code",
   "execution_count": 44,
   "id": "3faa8c7f",
   "metadata": {},
   "outputs": [
    {
     "data": {
      "text/plain": [
       "['John', 'George', 'Mickey']"
      ]
     },
     "execution_count": 44,
     "metadata": {},
     "output_type": "execute_result"
    }
   ],
   "source": [
    "Participants"
   ]
  },
  {
   "cell_type": "code",
   "execution_count": 45,
   "id": "802f0f2b",
   "metadata": {},
   "outputs": [],
   "source": [
    "Participants[1] = 'Georgia'"
   ]
  },
  {
   "cell_type": "code",
   "execution_count": 46,
   "id": "9dbc19d7",
   "metadata": {},
   "outputs": [],
   "source": [
    "Participants.append('Dwayne')"
   ]
  },
  {
   "cell_type": "code",
   "execution_count": 47,
   "id": "5b1008dd",
   "metadata": {},
   "outputs": [
    {
     "data": {
      "text/plain": [
       "['John', 'Georgia', 'Mickey', 'Dwayne']"
      ]
     },
     "execution_count": 47,
     "metadata": {},
     "output_type": "execute_result"
    }
   ],
   "source": [
    "Participants"
   ]
  },
  {
   "cell_type": "code",
   "execution_count": 48,
   "id": "ce5ac9a3",
   "metadata": {},
   "outputs": [
    {
     "data": {
      "text/plain": [
       "['John', 'Georgia', 'Mickey', 'Dwayne', 'Gina', 'Jane']"
      ]
     },
     "execution_count": 48,
     "metadata": {},
     "output_type": "execute_result"
    }
   ],
   "source": [
    "Participants.extend(['Gina', 'Jane'])\n",
    "Participants"
   ]
  },
  {
   "cell_type": "code",
   "execution_count": 60,
   "id": "7471aa7b",
   "metadata": {},
   "outputs": [
    {
     "name": "stdout",
     "output_type": "stream",
     "text": [
      "Participant John will get 11 popsicles.\n",
      "Participant Georgia will get 10 popsicles.\n",
      "Participant Mickey will get 16 popsicles.\n",
      "Participant Dwayne will get 18 popsicles.\n",
      "Participant Gina will get 7 popsicles.\n",
      "Participant Jane will get 20 popsicles.\n"
     ]
    }
   ],
   "source": [
    "import random\n",
    "\n",
    "for x in Participants:\n",
    "    print('Participant ' + str(x) + ' will get ' + str(random.randint(1, 20)) + ' popsicles.')"
   ]
  },
  {
   "cell_type": "code",
   "execution_count": 62,
   "id": "7d6a483a",
   "metadata": {},
   "outputs": [
    {
     "data": {
      "text/plain": [
       "['Georgia', 'Mickey']"
      ]
     },
     "execution_count": 62,
     "metadata": {},
     "output_type": "execute_result"
    }
   ],
   "source": [
    "# List Slicing\n",
    "\n",
    "Participants[1:3]"
   ]
  },
  {
   "cell_type": "code",
   "execution_count": 63,
   "id": "f658a704",
   "metadata": {},
   "outputs": [
    {
     "data": {
      "text/plain": [
       "['Georgia', 'Mickey', 'Dwayne', 'Gina', 'Jane']"
      ]
     },
     "execution_count": 63,
     "metadata": {},
     "output_type": "execute_result"
    }
   ],
   "source": [
    "Participants[1:]"
   ]
  },
  {
   "cell_type": "code",
   "execution_count": 64,
   "id": "a7144216",
   "metadata": {},
   "outputs": [
    {
     "data": {
      "text/plain": [
       "['John']"
      ]
     },
     "execution_count": 64,
     "metadata": {},
     "output_type": "execute_result"
    }
   ],
   "source": [
    "Participants[:1]"
   ]
  },
  {
   "cell_type": "code",
   "execution_count": 3,
   "id": "320a8e94",
   "metadata": {},
   "outputs": [
    {
     "data": {
      "text/plain": [
       "1"
      ]
     },
     "execution_count": 3,
     "metadata": {},
     "output_type": "execute_result"
    }
   ],
   "source": [
    "Participants = ['Georgia', 'Mickey', 'Dwayne', 'Gina', 'Jane']\n",
    "Participants.index(\"Mickey\")"
   ]
  },
  {
   "cell_type": "code",
   "execution_count": 4,
   "id": "b8653758",
   "metadata": {},
   "outputs": [],
   "source": [
    "Newcommers = ['Joshua', 'Leslie']"
   ]
  },
  {
   "cell_type": "code",
   "execution_count": 5,
   "id": "a407bdbd",
   "metadata": {},
   "outputs": [
    {
     "name": "stdout",
     "output_type": "stream",
     "text": [
      "['Georgia', 'Mickey', 'Dwayne', 'Gina', 'Jane']\n",
      "['Joshua', 'Leslie']\n"
     ]
    }
   ],
   "source": [
    "BiggerList = [\n",
    "    Participants,\n",
    "    Newcommers\n",
    "]\n",
    "\n",
    "for x in BiggerList:\n",
    "    print(x)"
   ]
  },
  {
   "cell_type": "code",
   "execution_count": 7,
   "id": "283c09cb",
   "metadata": {},
   "outputs": [
    {
     "data": {
      "text/plain": [
       "[['Georgia', 'Mickey', 'Dwayne', 'Gina', 'Jane'], ['Joshua', 'Leslie']]"
      ]
     },
     "execution_count": 7,
     "metadata": {},
     "output_type": "execute_result"
    }
   ],
   "source": [
    "BiggerList.sort()\n",
    "BiggerList"
   ]
  },
  {
   "cell_type": "code",
   "execution_count": 8,
   "id": "7517383d",
   "metadata": {},
   "outputs": [
    {
     "data": {
      "text/plain": [
       "[0, 1, 2, 3, 4, 5, 6, 7, 9]"
      ]
     },
     "execution_count": 8,
     "metadata": {},
     "output_type": "execute_result"
    }
   ],
   "source": [
    "Numbers = [3, 9, 4, 1, 2, 5, 6, 7, 0]\n",
    "Numbers.sort()\n",
    "Numbers"
   ]
  },
  {
   "cell_type": "code",
   "execution_count": 9,
   "id": "d86954e7",
   "metadata": {},
   "outputs": [
    {
     "data": {
      "text/plain": [
       "[9, 7, 6, 5, 4, 3, 2, 1, 0]"
      ]
     },
     "execution_count": 9,
     "metadata": {},
     "output_type": "execute_result"
    }
   ],
   "source": [
    "Numbers.sort(reverse=True)\n",
    "Numbers"
   ]
  },
  {
   "cell_type": "code",
   "execution_count": 10,
   "id": "5fde777b",
   "metadata": {},
   "outputs": [],
   "source": [
    "# Tuples"
   ]
  },
  {
   "cell_type": "code",
   "execution_count": 14,
   "id": "44de815e",
   "metadata": {},
   "outputs": [
    {
     "data": {
      "text/plain": [
       "(34, 76, 54)"
      ]
     },
     "execution_count": 14,
     "metadata": {},
     "output_type": "execute_result"
    }
   ],
   "source": [
    "# Tuple Assignment\n",
    "\n",
    "x = (34, 76, 54)\n",
    "x"
   ]
  },
  {
   "cell_type": "code",
   "execution_count": 15,
   "id": "2449cd49",
   "metadata": {},
   "outputs": [
    {
     "data": {
      "text/plain": [
       "(50, 43, 35)"
      ]
     },
     "execution_count": 15,
     "metadata": {},
     "output_type": "execute_result"
    }
   ],
   "source": [
    "y = 50, 43, 35\n",
    "y"
   ]
  },
  {
   "cell_type": "code",
   "execution_count": 16,
   "id": "7d9b3851",
   "metadata": {},
   "outputs": [
    {
     "data": {
      "text/plain": [
       "4"
      ]
     },
     "execution_count": 16,
     "metadata": {},
     "output_type": "execute_result"
    }
   ],
   "source": [
    "a, b, c = 3, 4, 5\n",
    "b"
   ]
  },
  {
   "cell_type": "code",
   "execution_count": 18,
   "id": "a825140f",
   "metadata": {},
   "outputs": [
    {
     "data": {
      "text/plain": [
       "[(34, 76, 54), (50, 43, 35)]"
      ]
     },
     "execution_count": 18,
     "metadata": {},
     "output_type": "execute_result"
    }
   ],
   "source": [
    "tuples = [x, y]\n",
    "tuples"
   ]
  },
  {
   "cell_type": "code",
   "execution_count": 19,
   "id": "127d0c08",
   "metadata": {},
   "outputs": [
    {
     "name": "stdout",
     "output_type": "stream",
     "text": [
      "30\n",
      "17\n"
     ]
    }
   ],
   "source": [
    "(age, years_of_school) = \"30,17\".split(',')\n",
    "print(age)\n",
    "print(years_of_school)"
   ]
  },
  {
   "cell_type": "code",
   "execution_count": 21,
   "id": "67305d76",
   "metadata": {},
   "outputs": [
    {
     "name": "stdout",
     "output_type": "stream",
     "text": [
      "Area and Perimeter:\n"
     ]
    },
    {
     "data": {
      "text/plain": [
       "(9, 12)"
      ]
     },
     "execution_count": 21,
     "metadata": {},
     "output_type": "execute_result"
    }
   ],
   "source": [
    "def square_info(x):\n",
    "    A = x ** 2\n",
    "    P = 4 * x\n",
    "    print(\"Area and Perimeter:\")\n",
    "    return A,P\n",
    "\n",
    "square_info(3)"
   ]
  },
  {
   "cell_type": "code",
   "execution_count": 23,
   "id": "3ff01098",
   "metadata": {},
   "outputs": [],
   "source": [
    "# Dictionaries [key value pairs - data storage]"
   ]
  },
  {
   "cell_type": "code",
   "execution_count": 25,
   "id": "90faedfd",
   "metadata": {},
   "outputs": [
    {
     "data": {
      "text/plain": [
       "{'k1': 'cat', 'k2': 'dog', 'k3': 'mouse', 'k4': 'fish'}"
      ]
     },
     "execution_count": 25,
     "metadata": {},
     "output_type": "execute_result"
    }
   ],
   "source": [
    "dict = {\n",
    "    'k1':'cat',\n",
    "    'k2':'dog',\n",
    "    'k3':'mouse',\n",
    "    'k4':'fish' \n",
    "}\n",
    "dict"
   ]
  },
  {
   "cell_type": "code",
   "execution_count": 26,
   "id": "ba5e10b8",
   "metadata": {},
   "outputs": [
    {
     "data": {
      "text/plain": [
       "'mouse'"
      ]
     },
     "execution_count": 26,
     "metadata": {},
     "output_type": "execute_result"
    }
   ],
   "source": [
    "dict['k3']"
   ]
  },
  {
   "cell_type": "code",
   "execution_count": 28,
   "id": "7ca5743a",
   "metadata": {},
   "outputs": [
    {
     "data": {
      "text/plain": [
       "'dog'"
      ]
     },
     "execution_count": 28,
     "metadata": {},
     "output_type": "execute_result"
    }
   ],
   "source": [
    "dict['k2']"
   ]
  },
  {
   "cell_type": "code",
   "execution_count": 30,
   "id": "bbdb1d19",
   "metadata": {},
   "outputs": [],
   "source": [
    "dict['k2'] = 'parrot'"
   ]
  },
  {
   "cell_type": "code",
   "execution_count": 32,
   "id": "6c36f7cf",
   "metadata": {},
   "outputs": [
    {
     "data": {
      "text/plain": [
       "'parrot'"
      ]
     },
     "execution_count": 32,
     "metadata": {},
     "output_type": "execute_result"
    }
   ],
   "source": [
    "dict['k2']"
   ]
  },
  {
   "cell_type": "code",
   "execution_count": 33,
   "id": "3e29a1d5",
   "metadata": {},
   "outputs": [
    {
     "data": {
      "text/plain": [
       "{'k1': 'cat', 'k2': 'parrot', 'k3': 'mouse', 'k4': 'fish'}"
      ]
     },
     "execution_count": 33,
     "metadata": {},
     "output_type": "execute_result"
    }
   ],
   "source": [
    "dict"
   ]
  },
  {
   "cell_type": "code",
   "execution_count": 35,
   "id": "b1813c69",
   "metadata": {},
   "outputs": [
    {
     "data": {
      "text/plain": [
       "['John', 'Mary']"
      ]
     },
     "execution_count": 35,
     "metadata": {},
     "output_type": "execute_result"
    }
   ],
   "source": [
    "dep_workers = {\n",
    "    'dep_1': 'Peter',\n",
    "    'dep_2': [\n",
    "        'John', \n",
    "        'Mary'\n",
    "    ]\n",
    "}\n",
    "dep_workers['dep_2']"
   ]
  },
  {
   "cell_type": "code",
   "execution_count": 37,
   "id": "1563618d",
   "metadata": {},
   "outputs": [],
   "source": [
    "Team = {}\n",
    "Team['Pointing Guard'] = 'Dirk'\n",
    "Team['Shooting Guard'] = 'Al'\n",
    "Team['Small Forward'] = 'Sean'\n",
    "Team['Power Forward'] = 'Alexander'\n",
    "Team['Center'] = 'Hector'"
   ]
  },
  {
   "cell_type": "code",
   "execution_count": 38,
   "id": "d9cef43d",
   "metadata": {},
   "outputs": [
    {
     "data": {
      "text/plain": [
       "{'Pointing Guard': 'Dirk',\n",
       " 'Shooting Guard': 'Al',\n",
       " 'Small Forward': 'Sean',\n",
       " 'Power Forward': 'Alexander',\n",
       " 'Center': 'Hector'}"
      ]
     },
     "execution_count": 38,
     "metadata": {},
     "output_type": "execute_result"
    }
   ],
   "source": [
    "Team"
   ]
  },
  {
   "cell_type": "code",
   "execution_count": 39,
   "id": "7363df85",
   "metadata": {},
   "outputs": [
    {
     "name": "stdout",
     "output_type": "stream",
     "text": [
      "Pointing Guard\n",
      "Shooting Guard\n",
      "Small Forward\n",
      "Power Forward\n",
      "Center\n"
     ]
    }
   ],
   "source": [
    "for x in Team:\n",
    "    print(x)"
   ]
  },
  {
   "cell_type": "code",
   "execution_count": 40,
   "id": "79b45b83",
   "metadata": {},
   "outputs": [
    {
     "data": {
      "text/plain": [
       "'Hector'"
      ]
     },
     "execution_count": 40,
     "metadata": {},
     "output_type": "execute_result"
    }
   ],
   "source": [
    "Team['Center']"
   ]
  },
  {
   "cell_type": "code",
   "execution_count": 41,
   "id": "bf2dd547",
   "metadata": {},
   "outputs": [
    {
     "name": "stdout",
     "output_type": "stream",
     "text": [
      "None\n"
     ]
    }
   ],
   "source": [
    "print(Team.get('Coach'))"
   ]
  },
  {
   "cell_type": "code",
   "execution_count": 6,
   "id": "c117e7b2",
   "metadata": {},
   "outputs": [],
   "source": [
    "# Iterations"
   ]
  },
  {
   "cell_type": "code",
   "execution_count": 5,
   "id": "06dee118",
   "metadata": {},
   "outputs": [],
   "source": [
    "# For Loops\n",
    "even = [0, 2, 4, 6, 8, 10, 12, 14, 16, 18, 20]"
   ]
  },
  {
   "cell_type": "code",
   "execution_count": 8,
   "id": "6b476a24",
   "metadata": {},
   "outputs": [
    {
     "name": "stdout",
     "output_type": "stream",
     "text": [
      "0 2 4 6 8 10 12 14 16 18 20 "
     ]
    }
   ],
   "source": [
    "for n in even:\n",
    "    print(n, end = \" \") # print every element separated by a space in the same row"
   ]
  },
  {
   "cell_type": "code",
   "execution_count": null,
   "id": "497b8467",
   "metadata": {},
   "outputs": [],
   "source": [
    "# While Loops"
   ]
  },
  {
   "cell_type": "code",
   "execution_count": 2,
   "id": "77a67322",
   "metadata": {},
   "outputs": [
    {
     "name": "stdout",
     "output_type": "stream",
     "text": [
      "0 2 4 6 8 10 12 14 16 18 20 "
     ]
    }
   ],
   "source": [
    "x = 0\n",
    "while x <= 20:\n",
    "    print (x, end = \" \")\n",
    "    x += 2"
   ]
  },
  {
   "cell_type": "code",
   "execution_count": 1,
   "id": "ad995181",
   "metadata": {},
   "outputs": [
    {
     "name": "stdout",
     "output_type": "stream",
     "text": [
      "hello\n"
     ]
    }
   ],
   "source": [
    "print(\"hello\")"
   ]
  },
  {
   "cell_type": "code",
   "execution_count": 3,
   "id": "f346f282",
   "metadata": {},
   "outputs": [],
   "source": [
    "# Loops with range() function"
   ]
  },
  {
   "cell_type": "code",
   "execution_count": null,
   "id": "f223aa1a",
   "metadata": {},
   "outputs": [],
   "source": [
    "# range(start, stop, step)\n",
    "#\n",
    "# start = first number in the list\n",
    "# stop = last value + 1\n",
    "# step = distance between each two consecutive values\n",
    "\n"
   ]
  }
 ],
 "metadata": {
  "kernelspec": {
   "display_name": "Python 3 (ipykernel)",
   "language": "python",
   "name": "python3"
  },
  "language_info": {
   "codemirror_mode": {
    "name": "ipython",
    "version": 3
   },
   "file_extension": ".py",
   "mimetype": "text/x-python",
   "name": "python",
   "nbconvert_exporter": "python",
   "pygments_lexer": "ipython3",
   "version": "3.10.9"
  }
 },
 "nbformat": 4,
 "nbformat_minor": 5
}
